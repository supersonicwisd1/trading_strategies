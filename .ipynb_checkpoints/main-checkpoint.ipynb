{
 "cells": [
  {
   "cell_type": "code",
   "execution_count": 1,
   "id": "84e21ea5",
   "metadata": {},
   "outputs": [],
   "source": [
    "import psycopg2\n",
    "from datetime import datetime\n",
    "import pandas as pd\n",
    "import numpy as np\n",
    "import plotly.express as px\n",
    "import plotly.graph_objects as go"
   ]
  },
  {
   "cell_type": "code",
   "execution_count": null,
   "id": "4cc92b9c",
   "metadata": {},
   "outputs": [],
   "source": [
    "import psycopg2\n",
    "from sqlalchemy import create_engine\n",
    "import os\n",
    "from dotenv import load_dotenv\n",
    "\n",
    "load_dotenv()\n",
    "\n",
    "def conn_to_db():\n",
    "    username = os.getenv('DB_USERNAME')\n",
    "    password = os.getenv('DB_PASSWORD')\n",
    "    host = os.getenv('HOST')\n",
    "    port = os.getenv('PORT')\n",
    "    database = os.getenv('DATABASE')\n",
    "\n",
    "    try:\n",
    "        engine = create_engine(f'postgresql://{username}:{password}@{host}:{port}/{database}')\n",
    "    except Exception as e:\n",
    "        print(f'Error: Could not connect to the database.\\n Reason:{e}')\n",
    "\n",
    "    return engine\n",
    "conn_to_db()"
   ]
  },
  {
   "cell_type": "code",
   "execution_count": null,
   "id": "add260a7",
   "metadata": {},
   "outputs": [],
   "source": [
    "table_name = os.getenv('TABLE_NAME')\n",
    "PATH_TO_FILE = os.getenv('PATH_TO_DATA')\n",
    "def insert_data():\n",
    "    df = pd.read_csv(PATH_TO_FILE)\n",
    "\n",
    "    # Insert data into the database\n",
    "    df.to_sql(f'{table_name}', conn_to_db(), if_exists='replace', index=False)\n",
    "\n",
    "# insert_data()"
   ]
  },
  {
   "cell_type": "code",
   "execution_count": null,
   "id": "8df03410",
   "metadata": {},
   "outputs": [],
   "source": [
    "table_name = os.getenv('TABLE_NAME')\n",
    "query = f\"SELECT * FROM {table_name}\"\n",
    "\n",
    "# Load data into a Pandas DataFrame\n",
    "df = pd.read_sql(query, conn_to_db())"
   ]
  },
  {
   "cell_type": "code",
   "execution_count": null,
   "id": "9561197d",
   "metadata": {},
   "outputs": [],
   "source": [
    "# check data quality and clearing data\n",
    "print(df.dtypes)\n",
    "def check_data_quality(df):\n",
    "    if df.isnull().values.any():\n",
    "        df = df.fillna(method='ffill')\n",
    "\n",
    "    assert df['open'].dtype == np.float64, \"Open column should be a float64\"\n",
    "    assert df['high'].dtype == np.float64, \"High column should be a float64\"\n",
    "    assert df['close'].dtype == np.float64, \"Close column should be a float64\"\n",
    "    assert df['volume'].dtype == np.int64, \"Volume column should be a int64\"\n",
    "    assert df['instrument'].dtype == object, \"Instrument column should be an object type\"\n",
    "    assert df['datetime'].dtype == object, \"Datatime column should be an object type\"\n",
    "\n",
    "check_data_quality(df)"
   ]
  },
  {
   "cell_type": "code",
   "execution_count": null,
   "id": "23c5432b",
   "metadata": {},
   "outputs": [],
   "source": [
    "# making datetime as index and convert datetime to date\n",
    "df = df.set_index(pd.DatetimeIndex(df['datetime']))\n",
    "\n",
    "df = df.drop('datetime', axis=1)\n",
    "df"
   ]
  },
  {
   "cell_type": "code",
   "execution_count": null,
   "id": "70091686",
   "metadata": {},
   "outputs": [],
   "source": [
    "# Virtualize close data\n",
    "px.line(df, x=df.index, y=[\"close\"])"
   ]
  },
  {
   "cell_type": "code",
   "execution_count": null,
   "id": "cfad494f",
   "metadata": {},
   "outputs": [],
   "source": [
    "# Creating a function to calculate SMA\n",
    "def SMA(data, period=200, column='close'):\n",
    "  return data[column].rolling(period).mean()"
   ]
  },
  {
   "cell_type": "code",
   "execution_count": null,
   "id": "5228f730",
   "metadata": {},
   "outputs": [],
   "source": [
    "# Creating for 20days and 50days\n",
    "df['SMA_20'] = SMA(df, 20)\n",
    "df['SMA_50'] = SMA(df, 50)"
   ]
  },
  {
   "cell_type": "code",
   "execution_count": null,
   "id": "07264cbb",
   "metadata": {},
   "outputs": [],
   "source": [
    "# Identify the Buy and Sell signals\n",
    "df['signal'] = np.where(df['SMA_20'] > df['SMA_50'], 1, 0)\n",
    "df['position'] = df['signal'].diff()\n",
    "\n",
    "# Calculate the returns of the trading strategy\n",
    "df['buy_signal'] = df['close'].where(df['position'] == 1, np.NAN)\n",
    "df['sell_signal'] = df['close'].where(df['position'] == -1, np.NAN)\n",
    "\n",
    "# Calculate the returns of the trading strategy\n",
    "df['return'] = (df['buy_signal'] - df['sell_signal']).shift(-1)\n",
    "\n",
    "# Calculate the cumulative returns of the trading strategy\n",
    "df['strategy_return'] = df['return'].cumsum()\n",
    "\n",
    "df"
   ]
  },
  {
   "cell_type": "code",
   "execution_count": null,
   "id": "ca00cc63",
   "metadata": {},
   "outputs": [],
   "source": [
    "# Create traces for Close price, SMA_20, and SMA_50\n",
    "trace_close = go.Scatter(x=df.index, y=df['close'], mode='lines', name='Close', line=dict(color='skyblue', width=2), opacity=0.5)\n",
    "trace_sma20 = go.Scatter(x=df.index, y=df['SMA_20'], mode='lines', name='20 days SMA', line=dict(color='orange', width=2), opacity=0.5)\n",
    "trace_sma50 = go.Scatter(x=df.index, y=df['SMA_50'], mode='lines', name='50 days SMA', line=dict(color='black', width=2), opacity=0.5)\n",
    "\n",
    "# Create traces for Buy and Sell signals\n",
    "trace_buy_signal = go.Scatter(x=df.index, y=df['buy_signal'], mode='markers', name='Buy signal', marker=dict(symbol='triangle-up', size=10, color='green'), opacity=1)\n",
    "trace_sell_signal = go.Scatter(x=df.index, y=df['sell_signal'], mode='markers', name='Sell signal', marker=dict(symbol='triangle-down', size=10, color='red'), opacity=1)\n",
    "\n",
    "# Combine all traces and layout\n",
    "data = [trace_close, trace_sma20, trace_sma50, trace_buy_signal, trace_sell_signal]\n",
    "\n",
    "layout = go.Layout(title=\"Close Price History with Buy and Sell signals\",\n",
    "                   xaxis=dict(title='Date'),\n",
    "                   yaxis=dict(title='Close Price'),\n",
    "                   margin=dict(l=0, r=0, t=50, b=0),\n",
    "                   legend=dict(x=0.01, y=0.99, bordercolor=\"Black\", borderwidth=1))\n",
    "\n",
    "fig = go.Figure(data=data, layout=layout)\n",
    "\n",
    "# Show the plot\n",
    "fig.show()"
   ]
  },
  {
   "cell_type": "code",
   "execution_count": null,
   "id": "97ecc8a6",
   "metadata": {},
   "outputs": [],
   "source": [
    "import unittest\n",
    "import datetime\n",
    "\n",
    "class TestStockData(unittest.TestCase):\n",
    "    def test_data_types(self):\n",
    "        data = [\n",
    "            (\"2014-01-24 00:00:00\", 114.00, 115.35, 113.00, 113.15, 5737135, \"HINDALCO\"),\n",
    "            (\"2014-01-27 00:00:00\", 111.10, 112.70, 109.30, 112.00, 8724577, \"HINDALCO\"),\n",
    "            (\"2014-01-28 00:00:00\", 113.80, 115.00, 109.75, 110.00, 4513345, \"HINDALCO\"),\n",
    "            (\"2014-01-29 00:00:00\", 111.75, 114.75, 111.15, 114.50, 4713458, \"HINDALCO\"),\n",
    "            (\"2014-01-30 00:00:00\", 108.10, 110.70, 107.60, 110.20, 5077231, \"HINDALCO\"),\n",
    "            ]\n",
    "\n",
    "        for record in data:\n",
    "            date_object = datetime.datetime.strptime(record[0], '%Y-%m-%d %H:%M:%S')\n",
    "\n",
    "            self.assertIsInstance(date_object, datetime.datetime)\n",
    "            self.assertIsInstance(record[1], float)\n",
    "            self.assertIsInstance(record[2], float)\n",
    "            self.assertIsInstance(record[3], float)\n",
    "            self.assertIsInstance(record[4], float)\n",
    "            self.assertIsInstance(record[5], int)\n",
    "            self.assertIsInstance(record[6], str)\n",
    "\n",
    "\n",
    "if __name__ == '__main__':\n",
    "    unittest.main(argv=[''], exit=False)\n"
   ]
  }
 ],
 "metadata": {
  "kernelspec": {
   "display_name": "Python 3 (ipykernel)",
   "language": "python",
   "name": "python3"
  },
  "language_info": {
   "codemirror_mode": {
    "name": "ipython",
    "version": 3
   },
   "file_extension": ".py",
   "mimetype": "text/x-python",
   "name": "python",
   "nbconvert_exporter": "python",
   "pygments_lexer": "ipython3",
   "version": "3.11.5"
  }
 },
 "nbformat": 4,
 "nbformat_minor": 5
}
